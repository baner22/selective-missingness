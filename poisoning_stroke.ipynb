{
  "nbformat": 4,
  "nbformat_minor": 0,
  "metadata": {
    "colab": {
      "name": "poisoning_stroke.ipynb",
      "provenance": [],
      "collapsed_sections": []
    },
    "kernelspec": {
      "name": "python3",
      "display_name": "Python 3"
    },
    "language_info": {
      "name": "python"
    }
  },
  "cells": [
    {
      "cell_type": "code",
      "execution_count": 1,
      "metadata": {
        "colab": {
          "base_uri": "https://localhost:8080/"
        },
        "id": "8nrHzaGYEnmG",
        "outputId": "61726f47-46ca-4d6c-8dcb-454924df7503"
      },
      "outputs": [
        {
          "output_type": "stream",
          "name": "stdout",
          "text": [
            "Drive already mounted at /content/drive; to attempt to forcibly remount, call drive.mount(\"/content/drive\", force_remount=True).\n"
          ]
        }
      ],
      "source": [
        "from google.colab import drive\n",
        "drive.mount('/content/drive')"
      ]
    },
    {
      "cell_type": "code",
      "source": [
        "from sklearn.model_selection import train_test_split\n",
        "import pandas as pd\n",
        "import numpy as np\n",
        "import matplotlib.pyplot as plt\n",
        "import seaborn as sns\n",
        "np.random.seed(100)\n"
      ],
      "metadata": {
        "id": "JKT8M-RnE5dz"
      },
      "execution_count": 2,
      "outputs": []
    },
    {
      "cell_type": "code",
      "source": [
        "df = pd.read_csv(\"healthcare-dataset-stroke-data.csv\")"
      ],
      "metadata": {
        "id": "sm5uMw1wG6u2"
      },
      "execution_count": 3,
      "outputs": []
    },
    {
      "cell_type": "code",
      "source": [
        "df.info()\n",
        "# print(df.isnull().values.any())"
      ],
      "metadata": {
        "colab": {
          "base_uri": "https://localhost:8080/"
        },
        "id": "cjA3FnmRHhLH",
        "outputId": "f2508ee4-e06e-48cc-a1f9-828bde144743"
      },
      "execution_count": 4,
      "outputs": [
        {
          "output_type": "stream",
          "name": "stdout",
          "text": [
            "<class 'pandas.core.frame.DataFrame'>\n",
            "RangeIndex: 5110 entries, 0 to 5109\n",
            "Data columns (total 12 columns):\n",
            " #   Column             Non-Null Count  Dtype  \n",
            "---  ------             --------------  -----  \n",
            " 0   id                 5110 non-null   int64  \n",
            " 1   gender             5110 non-null   object \n",
            " 2   age                5110 non-null   float64\n",
            " 3   hypertension       5110 non-null   int64  \n",
            " 4   heart_disease      5110 non-null   int64  \n",
            " 5   ever_married       5110 non-null   object \n",
            " 6   work_type          5110 non-null   object \n",
            " 7   Residence_type     5110 non-null   object \n",
            " 8   avg_glucose_level  5110 non-null   float64\n",
            " 9   bmi                4909 non-null   float64\n",
            " 10  smoking_status     5110 non-null   object \n",
            " 11  stroke             5110 non-null   int64  \n",
            "dtypes: float64(3), int64(4), object(5)\n",
            "memory usage: 479.2+ KB\n"
          ]
        }
      ]
    },
    {
      "cell_type": "code",
      "source": [
        "# df.drop(['id'], axis = 1, inplace = True)"
      ],
      "metadata": {
        "id": "qGPFlQMWfJoc"
      },
      "execution_count": 5,
      "outputs": []
    },
    {
      "cell_type": "code",
      "source": [
        "print(f\"Gender\",df.gender.unique())\n",
        "print(f\"hypertension\",df.hypertension.unique())\n",
        "print(f\"heart_disease\",df.heart_disease.unique())\n",
        "print(f\"ever_married\",df.ever_married.unique())\n",
        "print(f\"work_type\",df.work_type.unique())\n",
        "print(f\"Residence_type\",df.Residence_type.unique())\n",
        "print(f\"smoking_status\",df.smoking_status.unique())"
      ],
      "metadata": {
        "colab": {
          "base_uri": "https://localhost:8080/"
        },
        "id": "CH77dkjVbJU0",
        "outputId": "1b270eb3-137f-4037-cfa4-ee28143cfcbb"
      },
      "execution_count": 6,
      "outputs": [
        {
          "output_type": "stream",
          "name": "stdout",
          "text": [
            "Gender ['Male' 'Female' 'Other']\n",
            "hypertension [0 1]\n",
            "heart_disease [1 0]\n",
            "ever_married ['Yes' 'No']\n",
            "work_type ['Private' 'Self-employed' 'Govt_job' 'children' 'Never_worked']\n",
            "Residence_type ['Urban' 'Rural']\n",
            "smoking_status ['formerly smoked' 'never smoked' 'smokes' 'Unknown']\n"
          ]
        }
      ]
    },
    {
      "cell_type": "markdown",
      "source": [
        "It looks like there are only missing values for 'bmi' however by looking at the data we can see that there are values 'unknown' for 'smoking_status' which we should address"
      ],
      "metadata": {
        "id": "Bn4wAkO1ZyD3"
      }
    },
    {
      "cell_type": "code",
      "source": [
        "# Values for 'smoking_status' in training data\n",
        "print(f\"Never smoked: \",len(df[df['smoking_status'] == 'never smoked']))\n",
        "print(f\"Formerly smoked: \",len(df[df['smoking_status'] == 'formerly smoked']))\n",
        "print(f\"Smokes: \",len(df[df['smoking_status'] == 'smokes']))\n",
        "print(f\"Unknown: \",len(df[df['smoking_status'] == 'Unknown']))"
      ],
      "metadata": {
        "colab": {
          "base_uri": "https://localhost:8080/"
        },
        "id": "TdcsYLuiTESk",
        "outputId": "a9d5c645-6ed3-4584-d89b-09ccedf70196"
      },
      "execution_count": 7,
      "outputs": [
        {
          "output_type": "stream",
          "name": "stdout",
          "text": [
            "Never smoked:  1892\n",
            "Formerly smoked:  885\n",
            "Smokes:  789\n",
            "Unknown:  1544\n"
          ]
        }
      ]
    },
    {
      "cell_type": "code",
      "source": [
        "df['smoking_status'] = df['smoking_status'].replace(['Unknown'], np.nan)"
      ],
      "metadata": {
        "id": "7p0fwiI2aPbB"
      },
      "execution_count": 8,
      "outputs": []
    },
    {
      "cell_type": "code",
      "source": [
        "print(f\"Unknown: \",len(df[df['smoking_status'] == 'Unknown']))"
      ],
      "metadata": {
        "colab": {
          "base_uri": "https://localhost:8080/"
        },
        "id": "wyzeuRmzbJjK",
        "outputId": "de1e3272-5dcc-4ac1-892f-1a23a70410ff"
      },
      "execution_count": 9,
      "outputs": [
        {
          "output_type": "stream",
          "name": "stdout",
          "text": [
            "Unknown:  0\n"
          ]
        }
      ]
    },
    {
      "cell_type": "code",
      "source": [
        "# check that the smoking_status=='Unknown' is addressed\n",
        "df.info()"
      ],
      "metadata": {
        "colab": {
          "base_uri": "https://localhost:8080/"
        },
        "id": "IUu7WjG7flaz",
        "outputId": "bfaacbb0-d49a-49f4-8720-a6acac1aeaa7"
      },
      "execution_count": 10,
      "outputs": [
        {
          "output_type": "stream",
          "name": "stdout",
          "text": [
            "<class 'pandas.core.frame.DataFrame'>\n",
            "RangeIndex: 5110 entries, 0 to 5109\n",
            "Data columns (total 12 columns):\n",
            " #   Column             Non-Null Count  Dtype  \n",
            "---  ------             --------------  -----  \n",
            " 0   id                 5110 non-null   int64  \n",
            " 1   gender             5110 non-null   object \n",
            " 2   age                5110 non-null   float64\n",
            " 3   hypertension       5110 non-null   int64  \n",
            " 4   heart_disease      5110 non-null   int64  \n",
            " 5   ever_married       5110 non-null   object \n",
            " 6   work_type          5110 non-null   object \n",
            " 7   Residence_type     5110 non-null   object \n",
            " 8   avg_glucose_level  5110 non-null   float64\n",
            " 9   bmi                4909 non-null   float64\n",
            " 10  smoking_status     3566 non-null   object \n",
            " 11  stroke             5110 non-null   int64  \n",
            "dtypes: float64(3), int64(4), object(5)\n",
            "memory usage: 479.2+ KB\n"
          ]
        }
      ]
    },
    {
      "cell_type": "code",
      "source": [
        "# print(df['gender'].value_counts())\n",
        "print(df['stroke'].value_counts())"
      ],
      "metadata": {
        "id": "zjTVd-GkbJcs",
        "colab": {
          "base_uri": "https://localhost:8080/"
        },
        "outputId": "594ddd25-5a76-4ced-a106-9125284031c6"
      },
      "execution_count": 11,
      "outputs": [
        {
          "output_type": "stream",
          "name": "stdout",
          "text": [
            "0    4861\n",
            "1     249\n",
            "Name: stroke, dtype: int64\n"
          ]
        }
      ]
    },
    {
      "cell_type": "code",
      "source": [
        "df = df.dropna()\n",
        "print(df.shape)\n",
        "print(df['stroke'].value_counts())"
      ],
      "metadata": {
        "colab": {
          "base_uri": "https://localhost:8080/"
        },
        "id": "Gocx3T-TshJf",
        "outputId": "c049cabb-8780-4acd-93aa-8e3504f4a465"
      },
      "execution_count": 12,
      "outputs": [
        {
          "output_type": "stream",
          "name": "stdout",
          "text": [
            "(3426, 12)\n",
            "0    3246\n",
            "1     180\n",
            "Name: stroke, dtype: int64\n"
          ]
        }
      ]
    },
    {
      "cell_type": "code",
      "source": [
        ""
      ],
      "metadata": {
        "id": "yQ-l-O1nb2sc"
      },
      "execution_count": 12,
      "outputs": []
    },
    {
      "cell_type": "markdown",
      "source": [
        "Below we can look at the relationships between different labels"
      ],
      "metadata": {
        "id": "mvgPrvCsvF70"
      }
    },
    {
      "cell_type": "code",
      "source": [
        "display=plt.figure(figsize=(16, 30))\n",
        "\n",
        "for index, column in enumerate(list(df.columns.drop(['id']).values)):\n",
        "    display.add_subplot(6, 2, index + 1)\n",
        "    hist_types = ['avg_glucose_level', 'age', 'bmi', 'smoking_status']\n",
        "    if column in hist_types:\n",
        "        sns.histplot(data=df, x=column , kde=True, hue='stroke')\n",
        "    else:\n",
        "        sns.countplot(data=df, x=column)\n",
        "\n",
        "plt.show()"
      ],
      "metadata": {
        "colab": {
          "base_uri": "https://localhost:8080/",
          "height": 1000
        },
        "id": "QPTXO_BmSeLe",
        "outputId": "bb683e1c-0309-45be-a6f3-a7cb59de733a"
      },
      "execution_count": 13,
      "outputs": [
        {
          "output_type": "display_data",
          "data": {
            "text/plain": [
              "<Figure size 1152x2160 with 11 Axes>"
            ],
            "image/png": "[encoded data removed]"
          },
          "metadata": {
            "needs_background": "light"
          }
        }
      ]
    },
    {
      "cell_type": "markdown",
      "source": [
        "Certain values are currently in the dataset as strings. We can convert these to one-hot encodings with corresponding values."
      ],
      "metadata": {
        "id": "0c0RhqaJqCzO"
      }
    },
    {
      "cell_type": "code",
      "source": [
        "df = pd.get_dummies(df, columns=['smoking_status', 'gender', 'ever_married', 'Residence_type', 'work_type'])"
      ],
      "metadata": {
        "id": "MWvzAkFep3fG"
      },
      "execution_count": 14,
      "outputs": []
    },
    {
      "cell_type": "code",
      "source": [
        "from sklearn.preprocessing import MinMaxScaler\n",
        "scaler = MinMaxScaler()\n",
        "df = pd.DataFrame(scaler.fit_transform(df), columns = df.columns)"
      ],
      "metadata": {
        "id": "68FYDBnaWoob"
      },
      "execution_count": 15,
      "outputs": []
    },
    {
      "cell_type": "code",
      "source": [
        "df.info()"
      ],
      "metadata": {
        "colab": {
          "base_uri": "https://localhost:8080/"
        },
        "id": "WfwjUIlAqS5S",
        "outputId": "49175cb1-6a6d-41cf-e84d-a06039dc0cb0"
      },
      "execution_count": 16,
      "outputs": [
        {
          "output_type": "stream",
          "name": "stdout",
          "text": [
            "<class 'pandas.core.frame.DataFrame'>\n",
            "RangeIndex: 3426 entries, 0 to 3425\n",
            "Data columns (total 22 columns):\n",
            " #   Column                          Non-Null Count  Dtype  \n",
            "---  ------                          --------------  -----  \n",
            " 0   id                              3426 non-null   float64\n",
            " 1   age                             3426 non-null   float64\n",
            " 2   hypertension                    3426 non-null   float64\n",
            " 3   heart_disease                   3426 non-null   float64\n",
            " 4   avg_glucose_level               3426 non-null   float64\n",
            " 5   bmi                             3426 non-null   float64\n",
            " 6   stroke                          3426 non-null   float64\n",
            " 7   smoking_status_formerly smoked  3426 non-null   float64\n",
            " 8   smoking_status_never smoked     3426 non-null   float64\n",
            " 9   smoking_status_smokes           3426 non-null   float64\n",
            " 10  gender_Female                   3426 non-null   float64\n",
            " 11  gender_Male                     3426 non-null   float64\n",
            " 12  gender_Other                    3426 non-null   float64\n",
            " 13  ever_married_No                 3426 non-null   float64\n",
            " 14  ever_married_Yes                3426 non-null   float64\n",
            " 15  Residence_type_Rural            3426 non-null   float64\n",
            " 16  Residence_type_Urban            3426 non-null   float64\n",
            " 17  work_type_Govt_job              3426 non-null   float64\n",
            " 18  work_type_Never_worked          3426 non-null   float64\n",
            " 19  work_type_Private               3426 non-null   float64\n",
            " 20  work_type_Self-employed         3426 non-null   float64\n",
            " 21  work_type_children              3426 non-null   float64\n",
            "dtypes: float64(22)\n",
            "memory usage: 589.0 KB\n"
          ]
        }
      ]
    },
    {
      "cell_type": "markdown",
      "source": [
        "In the baseline, we remove all the 'Unknown' value for 'smoking_status'and all NaN values for 'bmi'. We will later see what the results look like when we introduce 'missingness' to this fully observed dataset."
      ],
      "metadata": {
        "id": "YWbomYy7rlDt"
      }
    },
    {
      "cell_type": "markdown",
      "source": [
        "Now let's split up the data into testing and training datasets. We will train a logistic regression model on this data without removing additional values."
      ],
      "metadata": {
        "id": "dxai5CiBgNGR"
      }
    },
    {
      "cell_type": "code",
      "source": [
        "train_data, test_data = train_test_split(df, test_size=0.2, random_state=25)"
      ],
      "metadata": {
        "id": "yISuTdOKHUgx"
      },
      "execution_count": 17,
      "outputs": []
    },
    {
      "cell_type": "code",
      "source": [
        "print(f\"Number of training examples: {train_data.shape[0]}\")\n",
        "print(f\"Number of testing examples: {test_data.shape[0]}\")"
      ],
      "metadata": {
        "colab": {
          "base_uri": "https://localhost:8080/"
        },
        "id": "4o8-4P9IHVp8",
        "outputId": "877eea00-0fd1-493f-9bda-19dedfe32ef0"
      },
      "execution_count": 18,
      "outputs": [
        {
          "output_type": "stream",
          "name": "stdout",
          "text": [
            "Number of training examples: 2740\n",
            "Number of testing examples: 686\n"
          ]
        }
      ]
    },
    {
      "cell_type": "markdown",
      "source": [
        "To balance the classes, we will remove some of the data points that have stroke=0 and increase the data points where stroke=1 using sklearn's resample."
      ],
      "metadata": {
        "id": "hKckJEpnb3YP"
      }
    },
    {
      "cell_type": "code",
      "source": [
        "from sklearn.utils import resample\n",
        "print(train_data['stroke'].value_counts())\n",
        "\n",
        "#create two different dataframe of majority and minority class \n",
        "df_majority = train_data[(train_data['stroke']==0)] \n",
        "df_minority = train_data[(train_data['stroke']==1)] \n",
        "# upsample minority class\n",
        "df_minority_upsampled = resample(df_minority, \n",
        "                                 replace=True,    # sample with replacement\n",
        "                                #  n_samples= int(train_data['stroke'].value_counts()[0]), # to match majority class\n",
        "                                 n_samples = 2000,\n",
        "                                 random_state=0)  # reproducible results\n",
        "# Combine majority class with upsampled minority class\n",
        "train_data = pd.concat([df_minority_upsampled, df_majority])\n",
        "\n",
        "\n",
        "print(train_data['stroke'].value_counts())"
      ],
      "metadata": {
        "colab": {
          "base_uri": "https://localhost:8080/"
        },
        "id": "ttfDUiU9dcEp",
        "outputId": "e0dbc320-800c-4c4d-a3e9-1343362a0d74"
      },
      "execution_count": 19,
      "outputs": [
        {
          "output_type": "stream",
          "name": "stdout",
          "text": [
            "0.0    2594\n",
            "1.0     146\n",
            "Name: stroke, dtype: int64\n",
            "0.0    2594\n",
            "1.0    2000\n",
            "Name: stroke, dtype: int64\n"
          ]
        }
      ]
    },
    {
      "cell_type": "code",
      "source": [
        "train_data.head()"
      ],
      "metadata": {
        "colab": {
          "base_uri": "https://localhost:8080/",
          "height": 317
        },
        "id": "FCQDJrxRY6iD",
        "outputId": "c96a286a-800b-4c42-e51a-204c91a9e4b9"
      },
      "execution_count": 20,
      "outputs": [
        {
          "output_type": "execute_result",
          "data": {
            "text/plain": [
              "           id       age  hypertension  heart_disease  avg_glucose_level  \\\n",
              "75   0.620519  0.888889           0.0            0.0           0.814745   \n",
              "31   0.016161  0.611111           0.0            0.0           0.074324   \n",
              "142  0.798877  0.833333           1.0            0.0           0.865109   \n",
              "175  0.143675  0.777778           0.0            0.0           0.098514   \n",
              "141  0.882715  0.680556           0.0            0.0           0.671683   \n",
              "\n",
              "          bmi  stroke  smoking_status_formerly smoked  \\\n",
              "75   0.286957     1.0                             1.0   \n",
              "31   0.211180     1.0                             0.0   \n",
              "142  0.422360     1.0                             1.0   \n",
              "175  0.120497     1.0                             1.0   \n",
              "141  0.301863     1.0                             1.0   \n",
              "\n",
              "     smoking_status_never smoked  smoking_status_smokes  ...  gender_Other  \\\n",
              "75                           0.0                    0.0  ...           0.0   \n",
              "31                           1.0                    0.0  ...           0.0   \n",
              "142                          0.0                    0.0  ...           0.0   \n",
              "175                          0.0                    0.0  ...           0.0   \n",
              "141                          0.0                    0.0  ...           0.0   \n",
              "\n",
              "     ever_married_No  ever_married_Yes  Residence_type_Rural  \\\n",
              "75               0.0               1.0                   1.0   \n",
              "31               0.0               1.0                   0.0   \n",
              "142              0.0               1.0                   1.0   \n",
              "175              0.0               1.0                   1.0   \n",
              "141              0.0               1.0                   0.0   \n",
              "\n",
              "     Residence_type_Urban  work_type_Govt_job  work_type_Never_worked  \\\n",
              "75                    0.0                 0.0                     0.0   \n",
              "31                    1.0                 0.0                     0.0   \n",
              "142                   0.0                 0.0                     0.0   \n",
              "175                   0.0                 0.0                     0.0   \n",
              "141                   1.0                 0.0                     0.0   \n",
              "\n",
              "     work_type_Private  work_type_Self-employed  work_type_children  \n",
              "75                 1.0                      0.0                 0.0  \n",
              "31                 1.0                      0.0                 0.0  \n",
              "142                1.0                      0.0                 0.0  \n",
              "175                1.0                      0.0                 0.0  \n",
              "141                1.0                      0.0                 0.0  \n",
              "\n",
              "[5 rows x 22 columns]"
            ],
            "text/html": [
              "\n",
              "  <div id=\"df-19c8bdb0-b99b-4eb7-b5c9-1e04a8dc082e\">\n",
              "    <div class=\"colab-df-container\">\n",
              "      <div>\n",
              "<style scoped>\n",
              "    .dataframe tbody tr th:only-of-type {\n",
              "        vertical-align: middle;\n",
              "    }\n",
              "\n",
              "    .dataframe tbody tr th {\n",
              "        vertical-align: top;\n",
              "    }\n",
              "\n",
              "    .dataframe thead th {\n",
              "        text-align: right;\n",
              "    }\n",
              "</style>\n",
              "<table border=\"1\" class=\"dataframe\">\n",
              "  <thead>\n",
              "    <tr style=\"text-align: right;\">\n",
              "      <th></th>\n",
              "      <th>id</th>\n",
              "      <th>age</th>\n",
              "      <th>hypertension</th>\n",
              "      <th>heart_disease</th>\n",
              "      <th>avg_glucose_level</th>\n",
              "      <th>bmi</th>\n",
              "      <th>stroke</th>\n",
              "      <th>smoking_status_formerly smoked</th>\n",
              "      <th>smoking_status_never smoked</th>\n",
              "      <th>smoking_status_smokes</th>\n",
              "      <th>...</th>\n",
              "      <th>gender_Other</th>\n",
              "      <th>ever_married_No</th>\n",
              "      <th>ever_married_Yes</th>\n",
              "      <th>Residence_type_Rural</th>\n",
              "      <th>Residence_type_Urban</th>\n",
              "      <th>work_type_Govt_job</th>\n",
              "      <th>work_type_Never_worked</th>\n",
              "      <th>work_type_Private</th>\n",
              "      <th>work_type_Self-employed</th>\n",
              "      <th>work_type_children</th>\n",
              "    </tr>\n",
              "  </thead>\n",
              "  <tbody>\n",
              "    <tr>\n",
              "      <th>75</th>\n",
              "      <td>0.620519</td>\n",
              "      <td>0.888889</td>\n",
              "      <td>0.0</td>\n",
              "      <td>0.0</td>\n",
              "      <td>0.814745</td>\n",
              "      <td>0.286957</td>\n",
              "      <td>1.0</td>\n",
              "      <td>1.0</td>\n",
              "      <td>0.0</td>\n",
              "      <td>0.0</td>\n",
              "      <td>...</td>\n",
              "      <td>0.0</td>\n",
              "      <td>0.0</td>\n",
              "      <td>1.0</td>\n",
              "      <td>1.0</td>\n",
              "      <td>0.0</td>\n",
              "      <td>0.0</td>\n",
              "      <td>0.0</td>\n",
              "      <td>1.0</td>\n",
              "      <td>0.0</td>\n",
              "      <td>0.0</td>\n",
              "    </tr>\n",
              "    <tr>\n",
              "      <th>31</th>\n",
              "      <td>0.016161</td>\n",
              "      <td>0.611111</td>\n",
              "      <td>0.0</td>\n",
              "      <td>0.0</td>\n",
              "      <td>0.074324</td>\n",
              "      <td>0.211180</td>\n",
              "      <td>1.0</td>\n",
              "      <td>0.0</td>\n",
              "      <td>1.0</td>\n",
              "      <td>0.0</td>\n",
              "      <td>...</td>\n",
              "      <td>0.0</td>\n",
              "      <td>0.0</td>\n",
              "      <td>1.0</td>\n",
              "      <td>0.0</td>\n",
              "      <td>1.0</td>\n",
              "      <td>0.0</td>\n",
              "      <td>0.0</td>\n",
              "      <td>1.0</td>\n",
              "      <td>0.0</td>\n",
              "      <td>0.0</td>\n",
              "    </tr>\n",
              "    <tr>\n",
              "      <th>142</th>\n",
              "      <td>0.798877</td>\n",
              "      <td>0.833333</td>\n",
              "      <td>1.0</td>\n",
              "      <td>0.0</td>\n",
              "      <td>0.865109</td>\n",
              "      <td>0.422360</td>\n",
              "      <td>1.0</td>\n",
              "      <td>1.0</td>\n",
              "      <td>0.0</td>\n",
              "      <td>0.0</td>\n",
              "      <td>...</td>\n",
              "      <td>0.0</td>\n",
              "      <td>0.0</td>\n",
              "      <td>1.0</td>\n",
              "      <td>1.0</td>\n",
              "      <td>0.0</td>\n",
              "      <td>0.0</td>\n",
              "      <td>0.0</td>\n",
              "      <td>1.0</td>\n",
              "      <td>0.0</td>\n",
              "      <td>0.0</td>\n",
              "    </tr>\n",
              "    <tr>\n",
              "      <th>175</th>\n",
              "      <td>0.143675</td>\n",
              "      <td>0.777778</td>\n",
              "      <td>0.0</td>\n",
              "      <td>0.0</td>\n",
              "      <td>0.098514</td>\n",
              "      <td>0.120497</td>\n",
              "      <td>1.0</td>\n",
              "      <td>1.0</td>\n",
              "      <td>0.0</td>\n",
              "      <td>0.0</td>\n",
              "      <td>...</td>\n",
              "      <td>0.0</td>\n",
              "      <td>0.0</td>\n",
              "      <td>1.0</td>\n",
              "      <td>1.0</td>\n",
              "      <td>0.0</td>\n",
              "      <td>0.0</td>\n",
              "      <td>0.0</td>\n",
              "      <td>1.0</td>\n",
              "      <td>0.0</td>\n",
              "      <td>0.0</td>\n",
              "    </tr>\n",
              "    <tr>\n",
              "      <th>141</th>\n",
              "      <td>0.882715</td>\n",
              "      <td>0.680556</td>\n",
              "      <td>0.0</td>\n",
              "      <td>0.0</td>\n",
              "      <td>0.671683</td>\n",
              "      <td>0.301863</td>\n",
              "      <td>1.0</td>\n",
              "      <td>1.0</td>\n",
              "      <td>0.0</td>\n",
              "      <td>0.0</td>\n",
              "      <td>...</td>\n",
              "      <td>0.0</td>\n",
              "      <td>0.0</td>\n",
              "      <td>1.0</td>\n",
              "      <td>0.0</td>\n",
              "      <td>1.0</td>\n",
              "      <td>0.0</td>\n",
              "      <td>0.0</td>\n",
              "      <td>1.0</td>\n",
              "      <td>0.0</td>\n",
              "      <td>0.0</td>\n",
              "    </tr>\n",
              "  </tbody>\n",
              "</table>\n",
              "<p>5 rows × 22 columns</p>\n",
              "</div>\n",
              "      <button class=\"colab-df-convert\" onclick=\"convertToInteractive('df-19c8bdb0-b99b-4eb7-b5c9-1e04a8dc082e')\"\n",
              "              title=\"Convert this dataframe to an interactive table.\"\n",
              "              style=\"display:none;\">\n",
              "        \n",
              "  <svg xmlns=\"http://www.w3.org/2000/svg\" height=\"24px\"viewBox=\"0 0 24 24\"\n",
              "       width=\"24px\">\n",
              "    <path d=\"M0 0h24v24H0V0z\" fill=\"none\"/>\n",
              "    <path d=\"M18.56 5.44l.94 2.06.94-2.06 2.06-.94-2.06-.94-.94-2.06-.94 2.06-2.06.94zm-11 1L8.5 8.5l.94-2.06 2.06-.94-2.06-.94L8.5 2.5l-.94 2.06-2.06.94zm10 10l.94 2.06.94-2.06 2.06-.94-2.06-.94-.94-2.06-.94 2.06-2.06.94z\"/><path d=\"M17.41 7.96l-1.37-1.37c-.4-.4-.92-.59-1.43-.59-.52 0-1.04.2-1.43.59L10.3 9.45l-7.72 7.72c-.78.78-.78 2.05 0 2.83L4 21.41c.39.39.9.59 1.41.59.51 0 1.02-.2 1.41-.59l7.78-7.78 2.81-2.81c.8-.78.8-2.07 0-2.86zM5.41 20L4 18.59l7.72-7.72 1.47 1.35L5.41 20z\"/>\n",
              "  </svg>\n",
              "      </button>\n",
              "      \n",
              "  <style>\n",
              "    .colab-df-container {\n",
              "      display:flex;\n",
              "      flex-wrap:wrap;\n",
              "      gap: 12px;\n",
              "    }\n",
              "\n",
              "    .colab-df-convert {\n",
              "      background-color: #E8F0FE;\n",
              "      border: none;\n",
              "      border-radius: 50%;\n",
              "      cursor: pointer;\n",
              "      display: none;\n",
              "      fill: #1967D2;\n",
              "      height: 32px;\n",
              "      padding: 0 0 0 0;\n",
              "      width: 32px;\n",
              "    }\n",
              "\n",
              "    .colab-df-convert:hover {\n",
              "      background-color: #E2EBFA;\n",
              "      box-shadow: 0px 1px 2px rgba(60, 64, 67, 0.3), 0px 1px 3px 1px rgba(60, 64, 67, 0.15);\n",
              "      fill: #174EA6;\n",
              "    }\n",
              "\n",
              "    [theme=dark] .colab-df-convert {\n",
              "      background-color: #3B4455;\n",
              "      fill: #D2E3FC;\n",
              "    }\n",
              "\n",
              "    [theme=dark] .colab-df-convert:hover {\n",
              "      background-color: #434B5C;\n",
              "      box-shadow: 0px 1px 3px 1px rgba(0, 0, 0, 0.15);\n",
              "      filter: drop-shadow(0px 1px 2px rgba(0, 0, 0, 0.3));\n",
              "      fill: #FFFFFF;\n",
              "    }\n",
              "  </style>\n",
              "\n",
              "      <script>\n",
              "        const buttonEl =\n",
              "          document.querySelector('#df-19c8bdb0-b99b-4eb7-b5c9-1e04a8dc082e button.colab-df-convert');\n",
              "        buttonEl.style.display =\n",
              "          google.colab.kernel.accessAllowed ? 'block' : 'none';\n",
              "\n",
              "        async function convertToInteractive(key) {\n",
              "          const element = document.querySelector('#df-19c8bdb0-b99b-4eb7-b5c9-1e04a8dc082e');\n",
              "          const dataTable =\n",
              "            await google.colab.kernel.invokeFunction('convertToInteractive',\n",
              "                                                     [key], {});\n",
              "          if (!dataTable) return;\n",
              "\n",
              "          const docLinkHtml = 'Like what you see? Visit the ' +\n",
              "            '<a target=\"_blank\" href=https://colab.research.google.com/notebooks/data_table.ipynb>data table notebook</a>'\n",
              "            + ' to learn more about interactive tables.';\n",
              "          element.innerHTML = '';\n",
              "          dataTable['output_type'] = 'display_data';\n",
              "          await google.colab.output.renderOutput(dataTable, element);\n",
              "          const docLink = document.createElement('div');\n",
              "          docLink.innerHTML = docLinkHtml;\n",
              "          element.appendChild(docLink);\n",
              "        }\n",
              "      </script>\n",
              "    </div>\n",
              "  </div>\n",
              "  "
            ]
          },
          "metadata": {},
          "execution_count": 20
        }
      ]
    },
    {
      "cell_type": "code",
      "source": [
        "from matplotlib.colors import ListedColormap\n",
        "\n",
        "cols = list(train_data.columns)\n",
        "# print(cols)\n",
        "corr_data = train_data.corr()\n",
        "\n",
        "corr_data = np.asarray(train_data[cols].corr()['stroke'][:])\n",
        "# print(corr_data.shape)\n",
        "corr_data.reshape(22,1)\n",
        "# print(corr_data.shape)\n",
        "\n",
        "f, ax = plt.subplots(figsize=(7, 12))\n",
        "# Generate a mask for upper traingle\n",
        "# mask = np.triu(np.ones_like(corr_data, dtype=bool))\n",
        "\n",
        "cmap = sns.diverging_palette(230, 20, as_cmap=True)\n",
        "\n",
        "sns.heatmap(corr_data[:, np.newaxis], annot=True,annot_kws={\"size\": 10}, linewidths=2,cmap='Blues', robust=True, xticklabels=[\"stroke\"], yticklabels=cols)"
      ],
      "metadata": {
        "colab": {
          "base_uri": "https://localhost:8080/",
          "height": 717
        },
        "id": "uxJU3H_uy9FR",
        "outputId": "2c6e669a-796b-42c6-96ac-f3b0507723d3"
      },
      "execution_count": 21,
      "outputs": [
        {
          "output_type": "execute_result",
          "data": {
            "text/plain": [
              "<matplotlib.axes._subplots.AxesSubplot at 0x7f010fdd8bd0>"
            ]
          },
          "metadata": {},
          "execution_count": 21
        },
        {
          "output_type": "display_data",
          "data": {
            "text/plain": [
              "<Figure size 504x864 with 2 Axes>"
            ],
            "image/png": "[encoded data removed]"
          },
          "metadata": {
            "needs_background": "light"
          }
        }
      ]
    },
    {
      "cell_type": "code",
      "source": [
        "from sklearn.linear_model import LogisticRegression\n",
        "x_train = train_data.loc[:, train_data.columns != 'stroke']\n",
        "y_train = train_data['stroke']\n",
        "\n",
        "model = LogisticRegression(random_state=0).fit(x_train, y_train)"
      ],
      "metadata": {
        "id": "g6nskmnduqn5",
        "colab": {
          "base_uri": "https://localhost:8080/"
        },
        "outputId": "f9cc44ee-809b-4efd-b947-e8b95e7d56c1"
      },
      "execution_count": 22,
      "outputs": [
        {
          "output_type": "stream",
          "name": "stderr",
          "text": [
            "/usr/local/lib/python3.7/dist-packages/sklearn/linear_model/_logistic.py:818: ConvergenceWarning: lbfgs failed to converge (status=1):\n",
            "STOP: TOTAL NO. of ITERATIONS REACHED LIMIT.\n",
            "\n",
            "Increase the number of iterations (max_iter) or scale the data as shown in:\n",
            "    https://scikit-learn.org/stable/modules/preprocessing.html\n",
            "Please also refer to the documentation for alternative solver options:\n",
            "    https://scikit-learn.org/stable/modules/linear_model.html#logistic-regression\n",
            "  extra_warning_msg=_LOGISTIC_SOLVER_CONVERGENCE_MSG,\n"
          ]
        }
      ]
    },
    {
      "cell_type": "code",
      "source": [
        "y_pred = model.predict(x_train)\n",
        "y_trainpred = y_pred\n",
        "from sklearn.metrics import accuracy_score\n",
        "print(f\"Accuracy of model - full training: \", accuracy_score(y_pred, y_train))"
      ],
      "metadata": {
        "colab": {
          "base_uri": "https://localhost:8080/"
        },
        "id": "at78uWOPxxKV",
        "outputId": "a3dc92be-dd79-4ced-e1ee-3a0997a28a90"
      },
      "execution_count": 23,
      "outputs": [
        {
          "output_type": "stream",
          "name": "stdout",
          "text": [
            "Accuracy of model - full training:  0.761863299956465\n"
          ]
        }
      ]
    },
    {
      "cell_type": "code",
      "source": [
        "x_test = test_data.loc[:, test_data.columns != 'stroke']\n",
        "y_test = test_data['stroke']\n",
        "\n",
        "y_pred = model.predict(x_test)\n",
        "print(f\"Accuracy of model - full test: \", accuracy_score(y_pred, y_test))"
      ],
      "metadata": {
        "colab": {
          "base_uri": "https://localhost:8080/"
        },
        "id": "xcriLH_sI-xr",
        "outputId": "26ed1c07-bcce-4f38-9db2-46defaee4d57"
      },
      "execution_count": 24,
      "outputs": [
        {
          "output_type": "stream",
          "name": "stdout",
          "text": [
            "Accuracy of model - full test:  0.7434402332361516\n"
          ]
        }
      ]
    },
    {
      "cell_type": "code",
      "source": [
        "from sklearn.metrics import confusion_matrix\n",
        "\n",
        "confusion = confusion_matrix(y_test, y_pred)\n",
        "\n",
        "print('Confusion Matrix\\n')\n",
        "print(confusion)\n",
        "print(\"True positive rate: \", confusion[1][1]/(confusion[1][1]+confusion[0][1]))\n",
        "print(\"True negative rate: \", confusion[0][0]/(confusion[0][0]+confusion[0][1]))"
      ],
      "metadata": {
        "colab": {
          "base_uri": "https://localhost:8080/"
        },
        "id": "B_gqd6RTkMTN",
        "outputId": "7e4aa50f-7439-492d-b2c3-309e95102379"
      },
      "execution_count": 25,
      "outputs": [
        {
          "output_type": "stream",
          "name": "stdout",
          "text": [
            "Confusion Matrix\n",
            "\n",
            "[[489 163]\n",
            " [ 13  21]]\n",
            "True positive rate:  0.11413043478260869\n",
            "True negative rate:  0.75\n"
          ]
        }
      ]
    },
    {
      "cell_type": "markdown",
      "source": [
        "After training the model on our training dataset, we can see that the baseline model produces an accuracy of 94.6%. Now, we will selectively remove values based on the correlation we found in our correlation computation."
      ],
      "metadata": {
        "id": "Juu04y1KB2P1"
      }
    },
    {
      "cell_type": "markdown",
      "source": [
        "Looking at the correlation data, we can see that there are a few labels with high correlation to 'stroke' prediction. We will randomly remove 1%, 5%, and 10% of these values to see how they affect model accuracy."
      ],
      "metadata": {
        "id": "PQ4dZabBCHoy"
      }
    },
    {
      "cell_type": "code",
      "source": [
        "my_data = corr_data[:, np.newaxis]\n",
        "type(my_data)\n",
        "my_data = [arr.tolist() for arr in my_data]\n",
        "my_data = [item for sublist in my_data for item in sublist]\n",
        "\n",
        "d = sorted(my_data, reverse=True)[0:4]\n",
        "# type(d[0])\n",
        "print(d)\n",
        "t = list(corr_data[:, np.newaxis])\n",
        "names=[]\n",
        "indicies = []\n",
        "for i in range(1,4):\n",
        "  temp = t.index(d[i])\n",
        "  names.append(cols[temp])\n",
        "  indicies.append(temp)\n",
        "\n",
        "print(names)\n",
        "print(indicies)\n",
        "\n"
      ],
      "metadata": {
        "colab": {
          "base_uri": "https://localhost:8080/"
        },
        "id": "hbmh_1hBxzkZ",
        "outputId": "23f91d24-8684-41c5-8145-2ab6bfeb06d5"
      },
      "execution_count": 26,
      "outputs": [
        {
          "output_type": "stream",
          "name": "stdout",
          "text": [
            "[1.0, 0.5479350309721465, 0.28134429598312183, 0.2329855603977625]\n",
            "['age', 'avg_glucose_level', 'heart_disease']\n",
            "[1, 4, 3]\n"
          ]
        }
      ]
    },
    {
      "cell_type": "code",
      "source": [
        "test_data.head()"
      ],
      "metadata": {
        "colab": {
          "base_uri": "https://localhost:8080/",
          "height": 317
        },
        "id": "-V1SfFJ9dPrv",
        "outputId": "1ba44232-22c4-4748-dc88-a01383263609"
      },
      "execution_count": 27,
      "outputs": [
        {
          "output_type": "execute_result",
          "data": {
            "text/plain": [
              "            id       age  hypertension  heart_disease  avg_glucose_level  \\\n",
              "1213  0.344002  0.944444           1.0            0.0           0.168544   \n",
              "3285  0.559405  0.444444           0.0            0.0           0.037623   \n",
              "1087  0.331370  0.944444           0.0            0.0           0.150402   \n",
              "1235  0.248452  0.041667           0.0            0.0           0.204598   \n",
              "2850  0.868435  0.305556           0.0            0.0           0.254870   \n",
              "\n",
              "           bmi  stroke  smoking_status_formerly smoked  \\\n",
              "1213  0.273292     0.0                             0.0   \n",
              "3285  0.192547     0.0                             0.0   \n",
              "1087  0.224845     0.0                             0.0   \n",
              "1235  0.118012     0.0                             0.0   \n",
              "2850  0.155280     0.0                             0.0   \n",
              "\n",
              "      smoking_status_never smoked  smoking_status_smokes  ...  gender_Other  \\\n",
              "1213                          0.0                    1.0  ...           0.0   \n",
              "3285                          1.0                    0.0  ...           0.0   \n",
              "1087                          1.0                    0.0  ...           0.0   \n",
              "1235                          1.0                    0.0  ...           0.0   \n",
              "2850                          0.0                    1.0  ...           0.0   \n",
              "\n",
              "      ever_married_No  ever_married_Yes  Residence_type_Rural  \\\n",
              "1213              0.0               1.0                   1.0   \n",
              "3285              1.0               0.0                   0.0   \n",
              "1087              1.0               0.0                   1.0   \n",
              "1235              1.0               0.0                   1.0   \n",
              "2850              0.0               1.0                   0.0   \n",
              "\n",
              "      Residence_type_Urban  work_type_Govt_job  work_type_Never_worked  \\\n",
              "1213                   0.0                 0.0                     0.0   \n",
              "3285                   1.0                 0.0                     0.0   \n",
              "1087                   0.0                 0.0                     0.0   \n",
              "1235                   0.0                 0.0                     0.0   \n",
              "2850                   1.0                 0.0                     0.0   \n",
              "\n",
              "      work_type_Private  work_type_Self-employed  work_type_children  \n",
              "1213                1.0                      0.0                 0.0  \n",
              "3285                1.0                      0.0                 0.0  \n",
              "1087                1.0                      0.0                 0.0  \n",
              "1235                1.0                      0.0                 0.0  \n",
              "2850                0.0                      1.0                 0.0  \n",
              "\n",
              "[5 rows x 22 columns]"
            ],
            "text/html": [
              "\n",
              "  <div id=\"df-af60c852-1e13-48c5-a065-76657c890ff4\">\n",
              "    <div class=\"colab-df-container\">\n",
              "      <div>\n",
              "<style scoped>\n",
              "    .dataframe tbody tr th:only-of-type {\n",
              "        vertical-align: middle;\n",
              "    }\n",
              "\n",
              "    .dataframe tbody tr th {\n",
              "        vertical-align: top;\n",
              "    }\n",
              "\n",
              "    .dataframe thead th {\n",
              "        text-align: right;\n",
              "    }\n",
              "</style>\n",
              "<table border=\"1\" class=\"dataframe\">\n",
              "  <thead>\n",
              "    <tr style=\"text-align: right;\">\n",
              "      <th></th>\n",
              "      <th>id</th>\n",
              "      <th>age</th>\n",
              "      <th>hypertension</th>\n",
              "      <th>heart_disease</th>\n",
              "      <th>avg_glucose_level</th>\n",
              "      <th>bmi</th>\n",
              "      <th>stroke</th>\n",
              "      <th>smoking_status_formerly smoked</th>\n",
              "      <th>smoking_status_never smoked</th>\n",
              "      <th>smoking_status_smokes</th>\n",
              "      <th>...</th>\n",
              "      <th>gender_Other</th>\n",
              "      <th>ever_married_No</th>\n",
              "      <th>ever_married_Yes</th>\n",
              "      <th>Residence_type_Rural</th>\n",
              "      <th>Residence_type_Urban</th>\n",
              "      <th>work_type_Govt_job</th>\n",
              "      <th>work_type_Never_worked</th>\n",
              "      <th>work_type_Private</th>\n",
              "      <th>work_type_Self-employed</th>\n",
              "      <th>work_type_children</th>\n",
              "    </tr>\n",
              "  </thead>\n",
              "  <tbody>\n",
              "    <tr>\n",
              "      <th>1213</th>\n",
              "      <td>0.344002</td>\n",
              "      <td>0.944444</td>\n",
              "      <td>1.0</td>\n",
              "      <td>0.0</td>\n",
              "      <td>0.168544</td>\n",
              "      <td>0.273292</td>\n",
              "      <td>0.0</td>\n",
              "      <td>0.0</td>\n",
              "      <td>0.0</td>\n",
              "      <td>1.0</td>\n",
              "      <td>...</td>\n",
              "      <td>0.0</td>\n",
              "      <td>0.0</td>\n",
              "      <td>1.0</td>\n",
              "      <td>1.0</td>\n",
              "      <td>0.0</td>\n",
              "      <td>0.0</td>\n",
              "      <td>0.0</td>\n",
              "      <td>1.0</td>\n",
              "      <td>0.0</td>\n",
              "      <td>0.0</td>\n",
              "    </tr>\n",
              "    <tr>\n",
              "      <th>3285</th>\n",
              "      <td>0.559405</td>\n",
              "      <td>0.444444</td>\n",
              "      <td>0.0</td>\n",
              "      <td>0.0</td>\n",
              "      <td>0.037623</td>\n",
              "      <td>0.192547</td>\n",
              "      <td>0.0</td>\n",
              "      <td>0.0</td>\n",
              "      <td>1.0</td>\n",
              "      <td>0.0</td>\n",
              "      <td>...</td>\n",
              "      <td>0.0</td>\n",
              "      <td>1.0</td>\n",
              "      <td>0.0</td>\n",
              "      <td>0.0</td>\n",
              "      <td>1.0</td>\n",
              "      <td>0.0</td>\n",
              "      <td>0.0</td>\n",
              "      <td>1.0</td>\n",
              "      <td>0.0</td>\n",
              "      <td>0.0</td>\n",
              "    </tr>\n",
              "    <tr>\n",
              "      <th>1087</th>\n",
              "      <td>0.331370</td>\n",
              "      <td>0.944444</td>\n",
              "      <td>0.0</td>\n",
              "      <td>0.0</td>\n",
              "      <td>0.150402</td>\n",
              "      <td>0.224845</td>\n",
              "      <td>0.0</td>\n",
              "      <td>0.0</td>\n",
              "      <td>1.0</td>\n",
              "      <td>0.0</td>\n",
              "      <td>...</td>\n",
              "      <td>0.0</td>\n",
              "      <td>1.0</td>\n",
              "      <td>0.0</td>\n",
              "      <td>1.0</td>\n",
              "      <td>0.0</td>\n",
              "      <td>0.0</td>\n",
              "      <td>0.0</td>\n",
              "      <td>1.0</td>\n",
              "      <td>0.0</td>\n",
              "      <td>0.0</td>\n",
              "    </tr>\n",
              "    <tr>\n",
              "      <th>1235</th>\n",
              "      <td>0.248452</td>\n",
              "      <td>0.041667</td>\n",
              "      <td>0.0</td>\n",
              "      <td>0.0</td>\n",
              "      <td>0.204598</td>\n",
              "      <td>0.118012</td>\n",
              "      <td>0.0</td>\n",
              "      <td>0.0</td>\n",
              "      <td>1.0</td>\n",
              "      <td>0.0</td>\n",
              "      <td>...</td>\n",
              "      <td>0.0</td>\n",
              "      <td>1.0</td>\n",
              "      <td>0.0</td>\n",
              "      <td>1.0</td>\n",
              "      <td>0.0</td>\n",
              "      <td>0.0</td>\n",
              "      <td>0.0</td>\n",
              "      <td>1.0</td>\n",
              "      <td>0.0</td>\n",
              "      <td>0.0</td>\n",
              "    </tr>\n",
              "    <tr>\n",
              "      <th>2850</th>\n",
              "      <td>0.868435</td>\n",
              "      <td>0.305556</td>\n",
              "      <td>0.0</td>\n",
              "      <td>0.0</td>\n",
              "      <td>0.254870</td>\n",
              "      <td>0.155280</td>\n",
              "      <td>0.0</td>\n",
              "      <td>0.0</td>\n",
              "      <td>0.0</td>\n",
              "      <td>1.0</td>\n",
              "      <td>...</td>\n",
              "      <td>0.0</td>\n",
              "      <td>0.0</td>\n",
              "      <td>1.0</td>\n",
              "      <td>0.0</td>\n",
              "      <td>1.0</td>\n",
              "      <td>0.0</td>\n",
              "      <td>0.0</td>\n",
              "      <td>0.0</td>\n",
              "      <td>1.0</td>\n",
              "      <td>0.0</td>\n",
              "    </tr>\n",
              "  </tbody>\n",
              "</table>\n",
              "<p>5 rows × 22 columns</p>\n",
              "</div>\n",
              "      <button class=\"colab-df-convert\" onclick=\"convertToInteractive('df-af60c852-1e13-48c5-a065-76657c890ff4')\"\n",
              "              title=\"Convert this dataframe to an interactive table.\"\n",
              "              style=\"display:none;\">\n",
              "        \n",
              "  <svg xmlns=\"http://www.w3.org/2000/svg\" height=\"24px\"viewBox=\"0 0 24 24\"\n",
              "       width=\"24px\">\n",
              "    <path d=\"M0 0h24v24H0V0z\" fill=\"none\"/>\n",
              "    <path d=\"M18.56 5.44l.94 2.06.94-2.06 2.06-.94-2.06-.94-.94-2.06-.94 2.06-2.06.94zm-11 1L8.5 8.5l.94-2.06 2.06-.94-2.06-.94L8.5 2.5l-.94 2.06-2.06.94zm10 10l.94 2.06.94-2.06 2.06-.94-2.06-.94-.94-2.06-.94 2.06-2.06.94z\"/><path d=\"M17.41 7.96l-1.37-1.37c-.4-.4-.92-.59-1.43-.59-.52 0-1.04.2-1.43.59L10.3 9.45l-7.72 7.72c-.78.78-.78 2.05 0 2.83L4 21.41c.39.39.9.59 1.41.59.51 0 1.02-.2 1.41-.59l7.78-7.78 2.81-2.81c.8-.78.8-2.07 0-2.86zM5.41 20L4 18.59l7.72-7.72 1.47 1.35L5.41 20z\"/>\n",
              "  </svg>\n",
              "      </button>\n",
              "      \n",
              "  <style>\n",
              "    .colab-df-container {\n",
              "      display:flex;\n",
              "      flex-wrap:wrap;\n",
              "      gap: 12px;\n",
              "    }\n",
              "\n",
              "    .colab-df-convert {\n",
              "      background-color: #E8F0FE;\n",
              "      border: none;\n",
              "      border-radius: 50%;\n",
              "      cursor: pointer;\n",
              "      display: none;\n",
              "      fill: #1967D2;\n",
              "      height: 32px;\n",
              "      padding: 0 0 0 0;\n",
              "      width: 32px;\n",
              "    }\n",
              "\n",
              "    .colab-df-convert:hover {\n",
              "      background-color: #E2EBFA;\n",
              "      box-shadow: 0px 1px 2px rgba(60, 64, 67, 0.3), 0px 1px 3px 1px rgba(60, 64, 67, 0.15);\n",
              "      fill: #174EA6;\n",
              "    }\n",
              "\n",
              "    [theme=dark] .colab-df-convert {\n",
              "      background-color: #3B4455;\n",
              "      fill: #D2E3FC;\n",
              "    }\n",
              "\n",
              "    [theme=dark] .colab-df-convert:hover {\n",
              "      background-color: #434B5C;\n",
              "      box-shadow: 0px 1px 3px 1px rgba(0, 0, 0, 0.15);\n",
              "      filter: drop-shadow(0px 1px 2px rgba(0, 0, 0, 0.3));\n",
              "      fill: #FFFFFF;\n",
              "    }\n",
              "  </style>\n",
              "\n",
              "      <script>\n",
              "        const buttonEl =\n",
              "          document.querySelector('#df-af60c852-1e13-48c5-a065-76657c890ff4 button.colab-df-convert');\n",
              "        buttonEl.style.display =\n",
              "          google.colab.kernel.accessAllowed ? 'block' : 'none';\n",
              "\n",
              "        async function convertToInteractive(key) {\n",
              "          const element = document.querySelector('#df-af60c852-1e13-48c5-a065-76657c890ff4');\n",
              "          const dataTable =\n",
              "            await google.colab.kernel.invokeFunction('convertToInteractive',\n",
              "                                                     [key], {});\n",
              "          if (!dataTable) return;\n",
              "\n",
              "          const docLinkHtml = 'Like what you see? Visit the ' +\n",
              "            '<a target=\"_blank\" href=https://colab.research.google.com/notebooks/data_table.ipynb>data table notebook</a>'\n",
              "            + ' to learn more about interactive tables.';\n",
              "          element.innerHTML = '';\n",
              "          dataTable['output_type'] = 'display_data';\n",
              "          await google.colab.output.renderOutput(dataTable, element);\n",
              "          const docLink = document.createElement('div');\n",
              "          docLink.innerHTML = docLinkHtml;\n",
              "          element.appendChild(docLink);\n",
              "        }\n",
              "      </script>\n",
              "    </div>\n",
              "  </div>\n",
              "  "
            ]
          },
          "metadata": {},
          "execution_count": 27
        }
      ]
    },
    {
      "cell_type": "code",
      "source": [
        "import random\n",
        "\n",
        "percent_removed = 0.1\n",
        "\n",
        "num_removed = int(np.round(percent_removed*len(train_data)))\n",
        "# print(num_removed)\n",
        "\n",
        "smalltest = train_data\n",
        "\n",
        "# print(type(num_removed))\n",
        "remove = random.sample(range(len(train_data)), num_removed)\n",
        "print(len(remove))\n",
        "# first = smalltest.iloc[remove,indicies]\n",
        "# print(first)\n",
        "smalltest.iloc[remove,indicies] = np.nan"
      ],
      "metadata": {
        "colab": {
          "base_uri": "https://localhost:8080/"
        },
        "id": "SZZ1-394C-V9",
        "outputId": "f72d8f6a-720e-45c0-bb41-7dae6cde4eb1"
      },
      "execution_count": 28,
      "outputs": [
        {
          "output_type": "stream",
          "name": "stdout",
          "text": [
            "459\n"
          ]
        }
      ]
    },
    {
      "cell_type": "code",
      "source": [
        ""
      ],
      "metadata": {
        "id": "UrNoOm0iQTBc"
      },
      "execution_count": 28,
      "outputs": []
    },
    {
      "cell_type": "code",
      "source": [
        "# smalltest.iloc[remove,indicies] = np.nan"
      ],
      "metadata": {
        "id": "FuRHuE-dfMfR"
      },
      "execution_count": 29,
      "outputs": []
    },
    {
      "cell_type": "code",
      "source": [
        "# print(smalltest.iloc[[0,1,2],indicies])"
      ],
      "metadata": {
        "id": "LTefSknxfO6S"
      },
      "execution_count": 30,
      "outputs": []
    },
    {
      "cell_type": "code",
      "source": [
        "smalltest.info()"
      ],
      "metadata": {
        "colab": {
          "base_uri": "https://localhost:8080/"
        },
        "id": "mBkhajCYfXYX",
        "outputId": "26e56687-d16b-4a26-e1c0-3d12391f0bb3"
      },
      "execution_count": 31,
      "outputs": [
        {
          "output_type": "stream",
          "name": "stdout",
          "text": [
            "<class 'pandas.core.frame.DataFrame'>\n",
            "Int64Index: 4594 entries, 75 to 1156\n",
            "Data columns (total 22 columns):\n",
            " #   Column                          Non-Null Count  Dtype  \n",
            "---  ------                          --------------  -----  \n",
            " 0   id                              4594 non-null   float64\n",
            " 1   age                             4135 non-null   float64\n",
            " 2   hypertension                    4594 non-null   float64\n",
            " 3   heart_disease                   4135 non-null   float64\n",
            " 4   avg_glucose_level               4135 non-null   float64\n",
            " 5   bmi                             4594 non-null   float64\n",
            " 6   stroke                          4594 non-null   float64\n",
            " 7   smoking_status_formerly smoked  4594 non-null   float64\n",
            " 8   smoking_status_never smoked     4594 non-null   float64\n",
            " 9   smoking_status_smokes           4594 non-null   float64\n",
            " 10  gender_Female                   4594 non-null   float64\n",
            " 11  gender_Male                     4594 non-null   float64\n",
            " 12  gender_Other                    4594 non-null   float64\n",
            " 13  ever_married_No                 4594 non-null   float64\n",
            " 14  ever_married_Yes                4594 non-null   float64\n",
            " 15  Residence_type_Rural            4594 non-null   float64\n",
            " 16  Residence_type_Urban            4594 non-null   float64\n",
            " 17  work_type_Govt_job              4594 non-null   float64\n",
            " 18  work_type_Never_worked          4594 non-null   float64\n",
            " 19  work_type_Private               4594 non-null   float64\n",
            " 20  work_type_Self-employed         4594 non-null   float64\n",
            " 21  work_type_children              4594 non-null   float64\n",
            "dtypes: float64(22)\n",
            "memory usage: 825.5 KB\n"
          ]
        }
      ]
    },
    {
      "cell_type": "markdown",
      "source": [
        "Here we will decide what to do with the missing data. \n",
        "1. smalltest.dropna() will drop all rows with missing values.\n",
        "2. smalltest.fillna(smalltest.mean()) will take the average value of the column of the missing value and replace the missing value with this\n",
        "3. KNNImputer will find the k-nearest neighbors and replace the missing value with this"
      ],
      "metadata": {
        "id": "CA_Z3OBTS9fl"
      }
    },
    {
      "cell_type": "code",
      "source": [
        "# smalltest = smalltest.dropna()"
      ],
      "metadata": {
        "id": "aRgAA9ycauH0"
      },
      "execution_count": 32,
      "outputs": []
    },
    {
      "cell_type": "code",
      "source": [
        "# smalltest.fillna(smalltest.mean())\n",
        "# for i in names:\n",
        "#   smalltest[i] = smalltest[i].fillna(smalltest[i].mean())\n"
      ],
      "metadata": {
        "id": "85WuPAGLasQ_"
      },
      "execution_count": 33,
      "outputs": []
    },
    {
      "cell_type": "code",
      "source": [
        "from sklearn.impute import KNNImputer\n",
        "# here k=3\n",
        "print(smalltest.shape)\n",
        "\n",
        "imputer = KNNImputer(n_neighbors=3)\n",
        "smalltest = pd.DataFrame(imputer.fit_transform(smalltest),columns = smalltest.columns)\n",
        "\n",
        "print(smalltest.shape)\n",
        "print(smalltest.isna().any())"
      ],
      "metadata": {
        "colab": {
          "base_uri": "https://localhost:8080/"
        },
        "id": "or8E3ScQNyMC",
        "outputId": "62b5308f-68a5-4069-a560-bb47207de654"
      },
      "execution_count": 34,
      "outputs": [
        {
          "output_type": "stream",
          "name": "stdout",
          "text": [
            "(4594, 22)\n",
            "(4594, 22)\n",
            "id                                False\n",
            "age                               False\n",
            "hypertension                      False\n",
            "heart_disease                     False\n",
            "avg_glucose_level                 False\n",
            "bmi                               False\n",
            "stroke                            False\n",
            "smoking_status_formerly smoked    False\n",
            "smoking_status_never smoked       False\n",
            "smoking_status_smokes             False\n",
            "gender_Female                     False\n",
            "gender_Male                       False\n",
            "gender_Other                      False\n",
            "ever_married_No                   False\n",
            "ever_married_Yes                  False\n",
            "Residence_type_Rural              False\n",
            "Residence_type_Urban              False\n",
            "work_type_Govt_job                False\n",
            "work_type_Never_worked            False\n",
            "work_type_Private                 False\n",
            "work_type_Self-employed           False\n",
            "work_type_children                False\n",
            "dtype: bool\n"
          ]
        }
      ]
    },
    {
      "cell_type": "code",
      "source": [
        "# from matplotlib.colors import ListedColormap\n",
        "\n",
        "cols = list(smalltest.columns)\n",
        "# print(cols)\n",
        "corr_data = smalltest.corr()\n",
        "\n",
        "corr_data = np.asarray(smalltest[cols].corr()['stroke'][:])\n",
        "# print(corr_data.shape)\n",
        "corr_data.reshape(22,1)\n",
        "# print(corr_data.shape)\n",
        "\n",
        "f, ax = plt.subplots(figsize=(7, 12))\n",
        "# Generate a mask for upper traingle\n",
        "# mask = np.triu(np.ones_like(corr_data, dtype=bool))\n",
        "\n",
        "cmap = sns.diverging_palette(230, 20, as_cmap=True)\n",
        "\n",
        "sns.heatmap(corr_data[:, np.newaxis], annot=True,annot_kws={\"size\": 10}, linewidths=2,cmap='Blues', robust=True, xticklabels=[\"stroke\"], yticklabels=cols)"
      ],
      "metadata": {
        "colab": {
          "base_uri": "https://localhost:8080/",
          "height": 717
        },
        "id": "bykDHebwOFFP",
        "outputId": "ab94014f-ab50-4e0b-b3a2-e8564b99ec2f"
      },
      "execution_count": 35,
      "outputs": [
        {
          "output_type": "execute_result",
          "data": {
            "text/plain": [
              "<matplotlib.axes._subplots.AxesSubplot at 0x7f010b16a090>"
            ]
          },
          "metadata": {},
          "execution_count": 35
        },
        {
          "output_type": "display_data",
          "data": {
            "text/plain": [
              "<Figure size 504x864 with 2 Axes>"
            ],
            "image/png": "[encoded data removed]"
          },
          "metadata": {
            "needs_background": "light"
          }
        }
      ]
    },
    {
      "cell_type": "code",
      "source": [
        "my_data = corr_data[:, np.newaxis]\n",
        "type(my_data)\n",
        "my_data = [arr.tolist() for arr in my_data]\n",
        "my_data = [item for sublist in my_data for item in sublist]\n",
        "\n",
        "d = sorted(my_data, reverse=True)[0:4]\n",
        "# type(d[0])\n",
        "print(d)\n",
        "t = list(corr_data[:, np.newaxis])\n",
        "names=[]\n",
        "indicies = []\n",
        "for i in range(1,4):\n",
        "  temp = t.index(d[i])\n",
        "  names.append(cols[temp])\n",
        "  indicies.append(temp)\n",
        "\n",
        "print(names)\n",
        "print(indicies)\n"
      ],
      "metadata": {
        "colab": {
          "base_uri": "https://localhost:8080/"
        },
        "id": "f-NF6c7gSVhJ",
        "outputId": "68c439f4-b9fc-4f0d-9acf-4fac807c8f70"
      },
      "execution_count": 36,
      "outputs": [
        {
          "output_type": "stream",
          "name": "stdout",
          "text": [
            "[1.0, 0.5573850017272092, 0.28456565313255683, 0.2329722121014695]\n",
            "['age', 'avg_glucose_level', 'heart_disease']\n",
            "[1, 4, 3]\n"
          ]
        }
      ]
    },
    {
      "cell_type": "code",
      "source": [
        "# from sklearn.linear_model import LogisticRegression\n",
        "x = smalltest.loc[:, smalltest.columns != 'stroke']\n",
        "y = smalltest['stroke']\n",
        "\n",
        "model = LogisticRegression(random_state=0, max_iter=9000).fit(x, y)"
      ],
      "metadata": {
        "id": "peNUftBuOHh6"
      },
      "execution_count": 37,
      "outputs": []
    },
    {
      "cell_type": "code",
      "source": [
        "y_pred = model.predict(x)\n",
        "y_trainpred = y_pred\n",
        "from sklearn.metrics import accuracy_score\n",
        "print(f\"Accuracy of corrupted model - missing train: \", accuracy_score(y_pred, y))\n"
      ],
      "metadata": {
        "colab": {
          "base_uri": "https://localhost:8080/"
        },
        "id": "2U_ul4sHOKkK",
        "outputId": "2067039c-36b5-4443-c24a-d63300f8146c"
      },
      "execution_count": 38,
      "outputs": [
        {
          "output_type": "stream",
          "name": "stdout",
          "text": [
            "Accuracy of corrupted model - missing train:  0.7677405311275577\n"
          ]
        }
      ]
    },
    {
      "cell_type": "code",
      "source": [
        "x_test = test_data.loc[:, test_data.columns != 'stroke']\n",
        "y_test = test_data['stroke']\n",
        "\n",
        "y_pred = model.predict(x_test)\n",
        "print(f\"Accuracy of corrupted model - full test: \", accuracy_score(y_pred, y_test))"
      ],
      "metadata": {
        "id": "V-IBDELvQTVt",
        "colab": {
          "base_uri": "https://localhost:8080/"
        },
        "outputId": "0651811f-ddb3-4a5c-ad98-d2e905925c23"
      },
      "execution_count": 39,
      "outputs": [
        {
          "output_type": "stream",
          "name": "stdout",
          "text": [
            "Accuracy of corrupted model - full test:  0.7376093294460642\n"
          ]
        }
      ]
    },
    {
      "cell_type": "code",
      "source": [
        "confusion = confusion_matrix(y_test, y_pred)\n",
        "print('Confusion Matrix\\n')\n",
        "print(confusion)\n",
        "print(\"True positive rate: \", confusion[1][1]/(confusion[1][1]+confusion[0][1]))\n",
        "print(\"True negative rate: \", confusion[0][0]/(confusion[0][0]+confusion[0][1]))\n"
      ],
      "metadata": {
        "colab": {
          "base_uri": "https://localhost:8080/"
        },
        "id": "okMEjZmdMNa4",
        "outputId": "6a3541e6-b182-4a85-95d7-16055d4c1729"
      },
      "execution_count": 40,
      "outputs": [
        {
          "output_type": "stream",
          "name": "stdout",
          "text": [
            "Confusion Matrix\n",
            "\n",
            "[[485 167]\n",
            " [ 13  21]]\n",
            "True positive rate:  0.11170212765957446\n",
            "True negative rate:  0.7438650306748467\n"
          ]
        }
      ]
    },
    {
      "cell_type": "code",
      "source": [
        ""
      ],
      "metadata": {
        "id": "EHDZLYR9onPO"
      },
      "execution_count": 40,
      "outputs": []
    }
  ]
}